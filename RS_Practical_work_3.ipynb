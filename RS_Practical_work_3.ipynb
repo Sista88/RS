{
 "cells": [
  {
   "cell_type": "code",
   "execution_count": 83,
   "id": "447596d4",
   "metadata": {},
   "outputs": [],
   "source": [
    "import pandas as pd\n",
    "from surprise import Dataset, Reader, SVD, accuracy\n",
    "import os\n",
    "from surprise.model_selection import cross_validate\n",
    "import numpy as np\n",
    "#from sklearn.decomposition import SVD\n",
    "from surprise.model_selection import train_test_split\n",
    "import matplotlib.pyplot as plt"
   ]
  },
  {
   "cell_type": "code",
   "execution_count": 2,
   "id": "0116b6c7",
   "metadata": {},
   "outputs": [],
   "source": [
    "movies_df = pd.read_csv('movies_clean.csv')\n",
    "ratings_df = pd.read_csv('ratings_clean.csv')"
   ]
  },
  {
   "cell_type": "code",
   "execution_count": 3,
   "id": "e82284bf",
   "metadata": {},
   "outputs": [
    {
     "data": {
      "text/html": [
       "<div>\n",
       "<style scoped>\n",
       "    .dataframe tbody tr th:only-of-type {\n",
       "        vertical-align: middle;\n",
       "    }\n",
       "\n",
       "    .dataframe tbody tr th {\n",
       "        vertical-align: top;\n",
       "    }\n",
       "\n",
       "    .dataframe thead th {\n",
       "        text-align: right;\n",
       "    }\n",
       "</style>\n",
       "<table border=\"1\" class=\"dataframe\">\n",
       "  <thead>\n",
       "    <tr style=\"text-align: right;\">\n",
       "      <th></th>\n",
       "      <th>Unnamed: 0</th>\n",
       "      <th>movieId</th>\n",
       "      <th>title</th>\n",
       "      <th>genres</th>\n",
       "      <th>year</th>\n",
       "    </tr>\n",
       "  </thead>\n",
       "  <tbody>\n",
       "    <tr>\n",
       "      <th>0</th>\n",
       "      <td>0</td>\n",
       "      <td>1</td>\n",
       "      <td>Toy Story (1995)</td>\n",
       "      <td>Adventure|Animation|Children|Comedy|Fantasy</td>\n",
       "      <td>1995.0</td>\n",
       "    </tr>\n",
       "    <tr>\n",
       "      <th>1</th>\n",
       "      <td>1</td>\n",
       "      <td>2</td>\n",
       "      <td>Jumanji (1995)</td>\n",
       "      <td>Adventure|Children|Fantasy</td>\n",
       "      <td>1995.0</td>\n",
       "    </tr>\n",
       "    <tr>\n",
       "      <th>2</th>\n",
       "      <td>2</td>\n",
       "      <td>3</td>\n",
       "      <td>Grumpier Old Men (1995)</td>\n",
       "      <td>Comedy|Romance</td>\n",
       "      <td>1995.0</td>\n",
       "    </tr>\n",
       "    <tr>\n",
       "      <th>3</th>\n",
       "      <td>3</td>\n",
       "      <td>4</td>\n",
       "      <td>Waiting to Exhale (1995)</td>\n",
       "      <td>Comedy|Drama|Romance</td>\n",
       "      <td>1995.0</td>\n",
       "    </tr>\n",
       "    <tr>\n",
       "      <th>4</th>\n",
       "      <td>4</td>\n",
       "      <td>5</td>\n",
       "      <td>Father of the Bride Part II (1995)</td>\n",
       "      <td>Comedy</td>\n",
       "      <td>1995.0</td>\n",
       "    </tr>\n",
       "  </tbody>\n",
       "</table>\n",
       "</div>"
      ],
      "text/plain": [
       "   Unnamed: 0  movieId                               title  \\\n",
       "0           0        1                    Toy Story (1995)   \n",
       "1           1        2                      Jumanji (1995)   \n",
       "2           2        3             Grumpier Old Men (1995)   \n",
       "3           3        4            Waiting to Exhale (1995)   \n",
       "4           4        5  Father of the Bride Part II (1995)   \n",
       "\n",
       "                                        genres    year  \n",
       "0  Adventure|Animation|Children|Comedy|Fantasy  1995.0  \n",
       "1                   Adventure|Children|Fantasy  1995.0  \n",
       "2                               Comedy|Romance  1995.0  \n",
       "3                         Comedy|Drama|Romance  1995.0  \n",
       "4                                       Comedy  1995.0  "
      ]
     },
     "execution_count": 3,
     "metadata": {},
     "output_type": "execute_result"
    }
   ],
   "source": [
    "movies_df.head()"
   ]
  },
  {
   "cell_type": "code",
   "execution_count": 4,
   "id": "7910f30b",
   "metadata": {},
   "outputs": [
    {
     "data": {
      "text/html": [
       "<div>\n",
       "<style scoped>\n",
       "    .dataframe tbody tr th:only-of-type {\n",
       "        vertical-align: middle;\n",
       "    }\n",
       "\n",
       "    .dataframe tbody tr th {\n",
       "        vertical-align: top;\n",
       "    }\n",
       "\n",
       "    .dataframe thead th {\n",
       "        text-align: right;\n",
       "    }\n",
       "</style>\n",
       "<table border=\"1\" class=\"dataframe\">\n",
       "  <thead>\n",
       "    <tr style=\"text-align: right;\">\n",
       "      <th></th>\n",
       "      <th>Unnamed: 0</th>\n",
       "      <th>userId</th>\n",
       "      <th>movieId</th>\n",
       "      <th>rating</th>\n",
       "      <th>timestamp</th>\n",
       "    </tr>\n",
       "  </thead>\n",
       "  <tbody>\n",
       "    <tr>\n",
       "      <th>0</th>\n",
       "      <td>0</td>\n",
       "      <td>1</td>\n",
       "      <td>1</td>\n",
       "      <td>4.0</td>\n",
       "      <td>964982703</td>\n",
       "    </tr>\n",
       "    <tr>\n",
       "      <th>1</th>\n",
       "      <td>1</td>\n",
       "      <td>1</td>\n",
       "      <td>3</td>\n",
       "      <td>4.0</td>\n",
       "      <td>964981247</td>\n",
       "    </tr>\n",
       "    <tr>\n",
       "      <th>2</th>\n",
       "      <td>2</td>\n",
       "      <td>1</td>\n",
       "      <td>6</td>\n",
       "      <td>4.0</td>\n",
       "      <td>964982224</td>\n",
       "    </tr>\n",
       "    <tr>\n",
       "      <th>3</th>\n",
       "      <td>3</td>\n",
       "      <td>1</td>\n",
       "      <td>47</td>\n",
       "      <td>5.0</td>\n",
       "      <td>964983815</td>\n",
       "    </tr>\n",
       "    <tr>\n",
       "      <th>4</th>\n",
       "      <td>4</td>\n",
       "      <td>1</td>\n",
       "      <td>50</td>\n",
       "      <td>5.0</td>\n",
       "      <td>964982931</td>\n",
       "    </tr>\n",
       "  </tbody>\n",
       "</table>\n",
       "</div>"
      ],
      "text/plain": [
       "   Unnamed: 0  userId  movieId  rating  timestamp\n",
       "0           0       1        1     4.0  964982703\n",
       "1           1       1        3     4.0  964981247\n",
       "2           2       1        6     4.0  964982224\n",
       "3           3       1       47     5.0  964983815\n",
       "4           4       1       50     5.0  964982931"
      ]
     },
     "execution_count": 4,
     "metadata": {},
     "output_type": "execute_result"
    }
   ],
   "source": [
    "ratings_df.head()"
   ]
  },
  {
   "cell_type": "code",
   "execution_count": 7,
   "id": "937b9401",
   "metadata": {},
   "outputs": [],
   "source": [
    "#data = Dataset.load_builtin('movies_clean.csv')"
   ]
  },
  {
   "cell_type": "code",
   "execution_count": 61,
   "id": "da70cc16",
   "metadata": {},
   "outputs": [],
   "source": [
    "df = pd.read_csv('ratings_clean.csv', index_col=0).to_csv('ratings_no_inde.csv', index=False)\n",
    "df = pd.read_csv('ratings_no_inde.csv')"
   ]
  },
  {
   "cell_type": "code",
   "execution_count": 62,
   "id": "8bb7c712",
   "metadata": {},
   "outputs": [
    {
     "data": {
      "text/html": [
       "<div>\n",
       "<style scoped>\n",
       "    .dataframe tbody tr th:only-of-type {\n",
       "        vertical-align: middle;\n",
       "    }\n",
       "\n",
       "    .dataframe tbody tr th {\n",
       "        vertical-align: top;\n",
       "    }\n",
       "\n",
       "    .dataframe thead th {\n",
       "        text-align: right;\n",
       "    }\n",
       "</style>\n",
       "<table border=\"1\" class=\"dataframe\">\n",
       "  <thead>\n",
       "    <tr style=\"text-align: right;\">\n",
       "      <th></th>\n",
       "      <th>userId</th>\n",
       "      <th>movieId</th>\n",
       "      <th>rating</th>\n",
       "      <th>timestamp</th>\n",
       "    </tr>\n",
       "  </thead>\n",
       "  <tbody>\n",
       "    <tr>\n",
       "      <th>0</th>\n",
       "      <td>1</td>\n",
       "      <td>1</td>\n",
       "      <td>4.0</td>\n",
       "      <td>964982703</td>\n",
       "    </tr>\n",
       "    <tr>\n",
       "      <th>1</th>\n",
       "      <td>1</td>\n",
       "      <td>3</td>\n",
       "      <td>4.0</td>\n",
       "      <td>964981247</td>\n",
       "    </tr>\n",
       "    <tr>\n",
       "      <th>2</th>\n",
       "      <td>1</td>\n",
       "      <td>6</td>\n",
       "      <td>4.0</td>\n",
       "      <td>964982224</td>\n",
       "    </tr>\n",
       "    <tr>\n",
       "      <th>3</th>\n",
       "      <td>1</td>\n",
       "      <td>47</td>\n",
       "      <td>5.0</td>\n",
       "      <td>964983815</td>\n",
       "    </tr>\n",
       "    <tr>\n",
       "      <th>4</th>\n",
       "      <td>1</td>\n",
       "      <td>50</td>\n",
       "      <td>5.0</td>\n",
       "      <td>964982931</td>\n",
       "    </tr>\n",
       "  </tbody>\n",
       "</table>\n",
       "</div>"
      ],
      "text/plain": [
       "   userId  movieId  rating  timestamp\n",
       "0       1        1     4.0  964982703\n",
       "1       1        3     4.0  964981247\n",
       "2       1        6     4.0  964982224\n",
       "3       1       47     5.0  964983815\n",
       "4       1       50     5.0  964982931"
      ]
     },
     "execution_count": 62,
     "metadata": {},
     "output_type": "execute_result"
    }
   ],
   "source": [
    "df.head()"
   ]
  },
  {
   "cell_type": "code",
   "execution_count": null,
   "id": "5f83022c",
   "metadata": {},
   "outputs": [],
   "source": []
  },
  {
   "cell_type": "code",
   "execution_count": 30,
   "id": "eda15bb9",
   "metadata": {},
   "outputs": [],
   "source": [
    "file_path = os.path.expanduser('ratings_no_inde.csv')"
   ]
  },
  {
   "cell_type": "code",
   "execution_count": 33,
   "id": "55d9162c",
   "metadata": {},
   "outputs": [],
   "source": [
    "reader = Reader(line_format=\"user item rating timestamp\", sep=\",\", skip_lines =1)"
   ]
  },
  {
   "cell_type": "code",
   "execution_count": 35,
   "id": "4fc824c9",
   "metadata": {},
   "outputs": [
    {
     "data": {
      "text/plain": [
       "<surprise.reader.Reader at 0x7fe1d5c92220>"
      ]
     },
     "execution_count": 35,
     "metadata": {},
     "output_type": "execute_result"
    }
   ],
   "source": [
    "reader"
   ]
  },
  {
   "cell_type": "code",
   "execution_count": 36,
   "id": "e147c2f3",
   "metadata": {},
   "outputs": [],
   "source": [
    "data = Dataset.load_from_file(file_path, reader=reader)"
   ]
  },
  {
   "cell_type": "code",
   "execution_count": 67,
   "id": "d0c5ac63",
   "metadata": {},
   "outputs": [
    {
     "name": "stdout",
     "output_type": "stream",
     "text": [
      "Size of trainset:  65855\n",
      "Size of testset:  16464\n"
     ]
    }
   ],
   "source": [
    "train_ratings, test_ratings = train_test_split(data, test_size=.20, random_state = 42)\n",
    "print(\"Size of trainset: \", train_ratings.n_ratings)\n",
    "print(\"Size of testset: \", len(test_ratings))"
   ]
  },
  {
   "cell_type": "code",
   "execution_count": 51,
   "id": "46baf4b8",
   "metadata": {},
   "outputs": [
    {
     "data": {
      "text/plain": [
       "0.6897714938688422"
      ]
     },
     "execution_count": 51,
     "metadata": {},
     "output_type": "execute_result"
    }
   ],
   "source": [
    "np.average(results[\"test_mae\"])"
   ]
  },
  {
   "cell_type": "code",
   "execution_count": 52,
   "id": "ca20d76d",
   "metadata": {},
   "outputs": [
    {
     "data": {
      "text/plain": [
       "0.8986278494797377"
      ]
     },
     "execution_count": 52,
     "metadata": {},
     "output_type": "execute_result"
    }
   ],
   "source": [
    "np.average(results[\"test_rmse\"])"
   ]
  },
  {
   "cell_type": "markdown",
   "id": "ea24c18f",
   "metadata": {},
   "source": [
    "## User based similarity"
   ]
  },
  {
   "cell_type": "markdown",
   "id": "3f4c2798",
   "metadata": {},
   "source": [
    "from surprise import KNNBasic\n",
    "knn_model = KNNBasic(random_state = 42,verbose = False)\n",
    "knn_model.fit(train_ratings)"
   ]
  },
  {
   "cell_type": "code",
   "execution_count": 80,
   "id": "36c4f355",
   "metadata": {},
   "outputs": [
    {
     "name": "stdout",
     "output_type": "stream",
     "text": [
      "Computing the cosine similarity matrix...\n",
      "Done computing similarity matrix.\n",
      "Computing the cosine similarity matrix...\n",
      "Done computing similarity matrix.\n",
      "Computing the cosine similarity matrix...\n",
      "Done computing similarity matrix.\n",
      "Computing the cosine similarity matrix...\n",
      "Done computing similarity matrix.\n",
      "Computing the cosine similarity matrix...\n",
      "Done computing similarity matrix.\n",
      "Evaluating RMSE, MAE of algorithm KNNBasic on 5 split(s).\n",
      "\n",
      "                  Fold 1  Fold 2  Fold 3  Fold 4  Fold 5  Mean    Std     \n",
      "RMSE (testset)    1.0035  1.0047  1.0167  1.0153  0.9989  1.0078  0.0069  \n",
      "MAE (testset)     0.7732  0.7706  0.7818  0.7754  0.7675  0.7737  0.0049  \n",
      "Fit time          0.17    0.18    0.18    0.18    0.18    0.18    0.00    \n",
      "Test time         1.76    1.69    1.51    1.77    1.64    1.67    0.10    \n"
     ]
    },
    {
     "data": {
      "text/plain": [
       "{'test_rmse': array([1.0034951 , 1.00474392, 1.01667479, 1.01528429, 0.99893399]),\n",
       " 'test_mae': array([0.77320192, 0.77060641, 0.78182256, 0.77542747, 0.76745577]),\n",
       " 'fit_time': (0.17290496826171875,\n",
       "  0.181077241897583,\n",
       "  0.17697477340698242,\n",
       "  0.17619013786315918,\n",
       "  0.18294501304626465),\n",
       " 'test_time': (1.7574560642242432,\n",
       "  1.6860322952270508,\n",
       "  1.5055480003356934,\n",
       "  1.7675871849060059,\n",
       "  1.639082908630371)}"
      ]
     },
     "execution_count": 80,
     "metadata": {},
     "output_type": "execute_result"
    }
   ],
   "source": [
    "sim_options = {'name': 'cosine',\n",
    "               'user_based': True  \n",
    "               }\n",
    "algo = KNNBasic(sim_options=sim_options)\n",
    "\n",
    "cr_val = cross_validate(algo, data, measures=['RMSE', 'MAE'], cv=5, verbose=True)\n",
    "cr_val"
   ]
  },
  {
   "cell_type": "code",
   "execution_count": null,
   "id": "84588ec6",
   "metadata": {},
   "outputs": [],
   "source": []
  },
  {
   "cell_type": "code",
   "execution_count": 92,
   "id": "68463be9",
   "metadata": {},
   "outputs": [
    {
     "data": {
      "text/html": [
       "<div>\n",
       "<style scoped>\n",
       "    .dataframe tbody tr th:only-of-type {\n",
       "        vertical-align: middle;\n",
       "    }\n",
       "\n",
       "    .dataframe tbody tr th {\n",
       "        vertical-align: top;\n",
       "    }\n",
       "\n",
       "    .dataframe thead th {\n",
       "        text-align: right;\n",
       "    }\n",
       "</style>\n",
       "<table border=\"1\" class=\"dataframe\">\n",
       "  <thead>\n",
       "    <tr style=\"text-align: right;\">\n",
       "      <th></th>\n",
       "      <th>test_rmse</th>\n",
       "      <th>test_mae</th>\n",
       "      <th>fit_time</th>\n",
       "      <th>test_time</th>\n",
       "    </tr>\n",
       "  </thead>\n",
       "  <tbody>\n",
       "    <tr>\n",
       "      <th>0</th>\n",
       "      <td>1.003495</td>\n",
       "      <td>0.773202</td>\n",
       "      <td>0.172905</td>\n",
       "      <td>1.757456</td>\n",
       "    </tr>\n",
       "    <tr>\n",
       "      <th>1</th>\n",
       "      <td>1.004744</td>\n",
       "      <td>0.770606</td>\n",
       "      <td>0.181077</td>\n",
       "      <td>1.686032</td>\n",
       "    </tr>\n",
       "    <tr>\n",
       "      <th>2</th>\n",
       "      <td>1.016675</td>\n",
       "      <td>0.781823</td>\n",
       "      <td>0.176975</td>\n",
       "      <td>1.505548</td>\n",
       "    </tr>\n",
       "    <tr>\n",
       "      <th>3</th>\n",
       "      <td>1.015284</td>\n",
       "      <td>0.775427</td>\n",
       "      <td>0.176190</td>\n",
       "      <td>1.767587</td>\n",
       "    </tr>\n",
       "    <tr>\n",
       "      <th>4</th>\n",
       "      <td>0.998934</td>\n",
       "      <td>0.767456</td>\n",
       "      <td>0.182945</td>\n",
       "      <td>1.639083</td>\n",
       "    </tr>\n",
       "  </tbody>\n",
       "</table>\n",
       "</div>"
      ],
      "text/plain": [
       "   test_rmse  test_mae  fit_time  test_time\n",
       "0   1.003495  0.773202  0.172905   1.757456\n",
       "1   1.004744  0.770606  0.181077   1.686032\n",
       "2   1.016675  0.781823  0.176975   1.505548\n",
       "3   1.015284  0.775427  0.176190   1.767587\n",
       "4   0.998934  0.767456  0.182945   1.639083"
      ]
     },
     "execution_count": 92,
     "metadata": {},
     "output_type": "execute_result"
    }
   ],
   "source": [
    "new = pd.DataFrame.from_dict(cr_val)\n",
    "new.head()"
   ]
  },
  {
   "cell_type": "markdown",
   "id": "d13ae320",
   "metadata": {},
   "source": [
    "fig = plt.figure()\n",
    "ax = fig.add_axes([0,0,1,1])\n",
    "ax.line(new['test_rmse'], new['test_mae'], new['fit_time'], new['test_time'])"
   ]
  },
  {
   "cell_type": "code",
   "execution_count": 95,
   "id": "1352162a",
   "metadata": {},
   "outputs": [
    {
     "data": {
      "text/plain": [
       "[<matplotlib.lines.Line2D at 0x7fe0c011db80>]"
      ]
     },
     "execution_count": 95,
     "metadata": {},
     "output_type": "execute_result"
    },
    {
     "data": {
      "image/png": "[encoded data removed]",
      "text/plain": [
       "<Figure size 432x288 with 1 Axes>"
      ]
     },
     "metadata": {
      "needs_background": "light"
     },
     "output_type": "display_data"
    }
   ],
   "source": [
    "plt.plot(new['test_rmse'])"
   ]
  },
  {
   "cell_type": "code",
   "execution_count": 96,
   "id": "94067804",
   "metadata": {},
   "outputs": [
    {
     "data": {
      "text/plain": [
       "[<matplotlib.lines.Line2D at 0x7fe0c017cdf0>]"
      ]
     },
     "execution_count": 96,
     "metadata": {},
     "output_type": "execute_result"
    },
    {
     "data": {
      "image/png": "[encoded data removed]",
      "text/plain": [
       "<Figure size 432x288 with 1 Axes>"
      ]
     },
     "metadata": {
      "needs_background": "light"
     },
     "output_type": "display_data"
    }
   ],
   "source": [
    "plt.plot(new['test_mae'])"
   ]
  },
  {
   "cell_type": "code",
   "execution_count": null,
   "id": "dd95fdad",
   "metadata": {},
   "outputs": [],
   "source": []
  },
  {
   "cell_type": "code",
   "execution_count": null,
   "id": "44cf1dd3",
   "metadata": {},
   "outputs": [],
   "source": []
  },
  {
   "cell_type": "code",
   "execution_count": null,
   "id": "3cd32ce7",
   "metadata": {},
   "outputs": [],
   "source": []
  },
  {
   "cell_type": "code",
   "execution_count": null,
   "id": "52c5cc6d",
   "metadata": {},
   "outputs": [],
   "source": []
  },
  {
   "cell_type": "code",
   "execution_count": 78,
   "id": "c4c9cd05",
   "metadata": {},
   "outputs": [
    {
     "name": "stdout",
     "output_type": "stream",
     "text": [
      "Computing the pearson similarity matrix...\n",
      "Done computing similarity matrix.\n",
      "Computing the pearson similarity matrix...\n",
      "Done computing similarity matrix.\n",
      "Computing the pearson similarity matrix...\n",
      "Done computing similarity matrix.\n",
      "Computing the pearson similarity matrix...\n",
      "Done computing similarity matrix.\n",
      "Computing the pearson similarity matrix...\n",
      "Done computing similarity matrix.\n",
      "Evaluating RMSE, MAE of algorithm KNNBasic on 5 split(s).\n",
      "\n",
      "                  Fold 1  Fold 2  Fold 3  Fold 4  Fold 5  Mean    Std     \n",
      "RMSE (testset)    1.0046  1.0185  1.0046  1.0130  1.0185  1.0118  0.0062  \n",
      "MAE (testset)     0.7719  0.7881  0.7721  0.7797  0.7855  0.7794  0.0067  \n",
      "Fit time          0.21    0.22    0.25    0.23    0.24    0.23    0.02    \n",
      "Test time         1.56    1.64    1.53    1.55    1.70    1.60    0.06    \n"
     ]
    },
    {
     "data": {
      "text/plain": [
       "{'test_rmse': array([1.00463571, 1.01847579, 1.00463393, 1.01296   , 1.01845034]),\n",
       " 'test_mae': array([0.77185137, 0.78811243, 0.77206324, 0.77965216, 0.78549429]),\n",
       " 'fit_time': (0.20668911933898926,\n",
       "  0.22296714782714844,\n",
       "  0.25247693061828613,\n",
       "  0.23342084884643555,\n",
       "  0.23992180824279785),\n",
       " 'test_time': (1.5629870891571045,\n",
       "  1.6360218524932861,\n",
       "  1.5289478302001953,\n",
       "  1.5497770309448242,\n",
       "  1.7012946605682373)}"
      ]
     },
     "execution_count": 78,
     "metadata": {},
     "output_type": "execute_result"
    }
   ],
   "source": [
    "sim_options = {'name': 'pearson',\n",
    "               'user_based': True  \n",
    "               }\n",
    "algo = KNNBasic(sim_options=sim_options)\n",
    "\n",
    "cross_validate(algo, data, measures=['RMSE', 'MAE'], cv=5, verbose=True)"
   ]
  },
  {
   "cell_type": "markdown",
   "id": "ec3d79b2",
   "metadata": {},
   "source": [
    "## Item based similarity"
   ]
  },
  {
   "cell_type": "code",
   "execution_count": 77,
   "id": "20411dd3",
   "metadata": {},
   "outputs": [
    {
     "name": "stdout",
     "output_type": "stream",
     "text": [
      "Computing the cosine similarity matrix...\n",
      "Done computing similarity matrix.\n",
      "Computing the cosine similarity matrix...\n",
      "Done computing similarity matrix.\n",
      "Computing the cosine similarity matrix...\n",
      "Done computing similarity matrix.\n",
      "Computing the cosine similarity matrix...\n",
      "Done computing similarity matrix.\n",
      "Computing the cosine similarity matrix...\n",
      "Done computing similarity matrix.\n",
      "Evaluating RMSE, MAE of algorithm KNNBasic on 5 split(s).\n",
      "\n",
      "                  Fold 1  Fold 2  Fold 3  Fold 4  Fold 5  Mean    Std     \n",
      "RMSE (testset)    0.9913  0.9861  0.9860  0.9827  0.9804  0.9853  0.0037  \n",
      "MAE (testset)     0.7708  0.7660  0.7653  0.7618  0.7606  0.7649  0.0036  \n",
      "Fit time          3.15    3.34    3.39    3.16    3.43    3.29    0.12    \n",
      "Test time         5.63    5.70    5.83    5.69    5.45    5.66    0.12    \n"
     ]
    },
    {
     "data": {
      "text/plain": [
       "{'test_rmse': array([0.99132756, 0.98607801, 0.98601454, 0.98270243, 0.98036882]),\n",
       " 'test_mae': array([0.77079849, 0.76602862, 0.76534853, 0.76182232, 0.76062835]),\n",
       " 'fit_time': (3.1450350284576416,\n",
       "  3.3446028232574463,\n",
       "  3.388740062713623,\n",
       "  3.157905101776123,\n",
       "  3.428683042526245),\n",
       " 'test_time': (5.632667064666748,\n",
       "  5.698276996612549,\n",
       "  5.827308177947998,\n",
       "  5.685655832290649,\n",
       "  5.445511102676392)}"
      ]
     },
     "execution_count": 77,
     "metadata": {},
     "output_type": "execute_result"
    }
   ],
   "source": [
    "sim_options = {'name': 'cosine',\n",
    "               'user_based': False  \n",
    "               }\n",
    "algo = KNNBasic(sim_options=sim_options)\n",
    "\n",
    "cross_validate(algo, data, measures=['RMSE', 'MAE'], cv=5, verbose=True)"
   ]
  },
  {
   "cell_type": "code",
   "execution_count": 79,
   "id": "9af9ef6b",
   "metadata": {},
   "outputs": [
    {
     "name": "stdout",
     "output_type": "stream",
     "text": [
      "Computing the pearson similarity matrix...\n",
      "Done computing similarity matrix.\n",
      "Computing the pearson similarity matrix...\n",
      "Done computing similarity matrix.\n",
      "Computing the pearson similarity matrix...\n",
      "Done computing similarity matrix.\n",
      "Computing the pearson similarity matrix...\n",
      "Done computing similarity matrix.\n",
      "Computing the pearson similarity matrix...\n",
      "Done computing similarity matrix.\n",
      "Evaluating RMSE, MAE of algorithm KNNBasic on 5 split(s).\n",
      "\n",
      "                  Fold 1  Fold 2  Fold 3  Fold 4  Fold 5  Mean    Std     \n",
      "RMSE (testset)    1.0034  1.0193  1.0190  1.0139  1.0116  1.0134  0.0058  \n",
      "MAE (testset)     0.7751  0.7841  0.7822  0.7803  0.7784  0.7800  0.0031  \n",
      "Fit time          0.23    0.22    0.24    0.29    0.26    0.25    0.02    \n",
      "Test time         1.55    1.47    1.67    1.76    1.79    1.65    0.12    \n"
     ]
    },
    {
     "data": {
      "text/plain": [
       "{'test_rmse': array([1.00341141, 1.01930182, 1.01895149, 1.01392506, 1.01155007]),\n",
       " 'test_mae': array([0.77507089, 0.78411223, 0.78224986, 0.78034936, 0.77844993]),\n",
       " 'fit_time': (0.23497891426086426,\n",
       "  0.21521997451782227,\n",
       "  0.24121594429016113,\n",
       "  0.28705883026123047,\n",
       "  0.26020121574401855),\n",
       " 'test_time': (1.5539770126342773,\n",
       "  1.4653348922729492,\n",
       "  1.6694321632385254,\n",
       "  1.7554678916931152,\n",
       "  1.7878708839416504)}"
      ]
     },
     "execution_count": 79,
     "metadata": {},
     "output_type": "execute_result"
    }
   ],
   "source": [
    "sim_options = {'name': 'pearson',\n",
    "               'user_based': True  \n",
    "               }\n",
    "algo = KNNBasic(sim_options=sim_options)\n",
    "\n",
    "cross_validate(algo, data, measures=['RMSE', 'MAE'], cv=5, verbose=True)"
   ]
  },
  {
   "cell_type": "code",
   "execution_count": null,
   "id": "889190f7",
   "metadata": {},
   "outputs": [],
   "source": []
  },
  {
   "cell_type": "code",
   "execution_count": null,
   "id": "7b89b8d1",
   "metadata": {},
   "outputs": [],
   "source": []
  },
  {
   "cell_type": "code",
   "execution_count": null,
   "id": "59a001c6",
   "metadata": {},
   "outputs": [],
   "source": []
  }
 ],
 "metadata": {
  "kernelspec": {
   "display_name": "Python 3 (ipykernel)",
   "language": "python",
   "name": "python3"
  },
  "language_info": {
   "codemirror_mode": {
    "name": "ipython",
    "version": 3
   },
   "file_extension": ".py",
   "mimetype": "text/x-python",
   "name": "python",
   "nbconvert_exporter": "python",
   "pygments_lexer": "ipython3",
   "version": "3.9.7"
  }
 },
 "nbformat": 4,
 "nbformat_minor": 5
}
